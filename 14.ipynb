{
 "cells": [
  {
   "cell_type": "code",
   "execution_count": null,
   "id": "initial_id",
   "metadata": {
    "collapsed": true
   },
   "outputs": [],
   "source": []
  },
  {
   "cell_type": "code",
   "execution_count": 2,
   "outputs": [
    {
     "name": "stdout",
     "output_type": "stream",
     "text": [
      "Optimal Depth for Decision Tree: 3\n",
      "\n",
      "Decision Tree Rules:\n",
      " |--- color_intensity <= 3.82\n",
      "|   |--- proline <= 1002.50\n",
      "|   |   |--- ash <= 3.07\n",
      "|   |   |   |--- class: 1\n",
      "|   |   |--- ash >  3.07\n",
      "|   |   |   |--- class: 0\n",
      "|   |--- proline >  1002.50\n",
      "|   |   |--- class: 0\n",
      "|--- color_intensity >  3.82\n",
      "|   |--- flavanoids <= 1.40\n",
      "|   |   |--- class: 2\n",
      "|   |--- flavanoids >  1.40\n",
      "|   |   |--- proline <= 724.50\n",
      "|   |   |   |--- class: 1\n",
      "|   |   |--- proline >  724.50\n",
      "|   |   |   |--- class: 0\n"
     ]
    }
   ],
   "source": [
    "from sklearn.datasets import load_wine\n",
    "import numpy as np\n",
    "from sklearn.model_selection import train_test_split, GridSearchCV\n",
    "from sklearn.tree import DecisionTreeClassifier, export_text\n",
    "\n",
    "# Load Wine dataset\n",
    "wine = load_wine()\n",
    "X, y = wine.data, wine.target\n",
    "\n",
    "# Train-test split\n",
    "X_train, X_test, y_train, y_test = train_test_split(X, y, test_size=0.2, random_state=42)\n",
    "\n",
    "# Define the parameter grid for decision tree depth\n",
    "param_grid_tree = {'max_depth': np.arange(1, 20)}\n",
    "\n",
    "# Grid search for optimal depth\n",
    "grid_search_tree = GridSearchCV(DecisionTreeClassifier(), param_grid_tree, cv=5)\n",
    "grid_search_tree.fit(X_train, y_train)\n",
    "\n",
    "# Get the optimal depth\n",
    "optimal_depth = grid_search_tree.best_params_['max_depth']\n",
    "\n",
    "# Print the optimal depth\n",
    "print(f\"Optimal Depth for Decision Tree: {optimal_depth}\")\n",
    "\n",
    "# Train a decision tree with the optimal depth\n",
    "optimal_tree = DecisionTreeClassifier(max_depth=optimal_depth)\n",
    "optimal_tree.fit(X_train, y_train)\n",
    "\n",
    "# Print out the actual tree\n",
    "tree_rules = export_text(optimal_tree, feature_names=wine.feature_names)\n",
    "print(\"\\nDecision Tree Rules:\\n\", tree_rules)\n"
   ],
   "metadata": {
    "collapsed": false,
    "ExecuteTime": {
     "end_time": "2023-12-10T17:39:41.240075Z",
     "start_time": "2023-12-10T17:39:41.134481Z"
    }
   },
   "id": "d3cbb1921ba03b4"
  },
  {
   "cell_type": "code",
   "execution_count": null,
   "outputs": [],
   "source": [],
   "metadata": {
    "collapsed": false
   },
   "id": "c0c2ed353861876"
  }
 ],
 "metadata": {
  "kernelspec": {
   "display_name": "Python 3",
   "language": "python",
   "name": "python3"
  },
  "language_info": {
   "codemirror_mode": {
    "name": "ipython",
    "version": 2
   },
   "file_extension": ".py",
   "mimetype": "text/x-python",
   "name": "python",
   "nbconvert_exporter": "python",
   "pygments_lexer": "ipython2",
   "version": "2.7.6"
  }
 },
 "nbformat": 4,
 "nbformat_minor": 5
}
